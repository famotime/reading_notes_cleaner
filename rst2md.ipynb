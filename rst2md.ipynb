{
 "cells": [
  {
   "cell_type": "code",
   "execution_count": 1,
   "metadata": {},
   "outputs": [],
   "source": [
    "import pathlib\n",
    "import re\n",
    "\n",
    "\n",
    "def rst2md(path_rst, path_md):\n",
    "    title_marks = ['=', '-', '`', ':', \"'\", '\"', '~', '^', '_', '*', '+', '#', '<', '>']\n",
    "    appeared_title_marks = {}\n",
    "    content = ''\n",
    "    last_line = ''\n",
    "    count = 0\n",
    "    code_flag = image_flag = False\n",
    "    with open(path_rst, 'r', encoding='utf-8') as f:\n",
    "        for line in f:\n",
    "            # 匹配标题\n",
    "            if re.match(r\"^[=\\-`:'\\\"~^_*+#<>]{3,}\", line) and not code_flag:\n",
    "                if line[0] not in appeared_title_marks:\n",
    "                    count += 1\n",
    "                    appeared_title_marks[line[0]] = count\n",
    "                if last_line:\n",
    "                    last_line = '#' * appeared_title_marks[line[0]] + ' ' + last_line\n",
    "                line = ''\n",
    "                \n",
    "            # 匹配代码块\n",
    "            if line.startswith('.. code:: '):\n",
    "                code_flag = True\n",
    "                code_block = line.replace('.. code:: ', '```')\n",
    "                line = ''\n",
    "                if image_flag:\n",
    "                    image_flag = False\n",
    "                    last_line = '![](' + image_url + ')\\n'                    \n",
    "            # 匹配图片链接\n",
    "            elif line.startswith('.. image:: ') or line.startswith('.. figure:: '):\n",
    "                image_flag = True\n",
    "                image_url = line.replace('.. image:: ', '').replace('.. figure:: ', '').strip()\n",
    "                line = ''\n",
    "                if code_flag:\n",
    "                    code_flag = False\n",
    "                    last_line = code_block + '```\\n'\n",
    "                \n",
    "            if code_flag:\n",
    "                if line.startswith('  ')  or line.startswith('\\t') or not line.strip():\n",
    "                    code_block += line\n",
    "                    line = ''\n",
    "                else:\n",
    "                    code_flag = False\n",
    "                    last_line = code_block + '```\\n'\n",
    "                \n",
    "            if image_flag:\n",
    "                if (line.startswith('  ') or line.startswith('\\t') or not line.strip()) and not code_flag:\n",
    "                    line = ''\n",
    "                else:\n",
    "                    image_flag = False\n",
    "                    last_line = '![](' + image_url + ')\\n'                    \n",
    "                    \n",
    "            content += last_line\n",
    "            last_line = line\n",
    "            \n",
    "        content += line\n",
    "        \n",
    "        if code_flag:\n",
    "            content += code_block + '```\\n'\n",
    "        elif image_flag:\n",
    "            content += '![](' + image_url + ')'\n",
    "            \n",
    "    with open(path_md, 'w', encoding='utf-8') as f:\n",
    "        f.write(content)\n"
   ]
  },
  {
   "cell_type": "code",
   "execution_count": 2,
   "metadata": {},
   "outputs": [
    {
     "name": "stdout",
     "output_type": "stream",
     "text": [
      "成功转换104个.rst文件为.md文件。\n"
     ]
    }
   ],
   "source": [
    "path_work = pathlib.Path(r'D:\\Python_Work\\reading_notes_cleaner\\unrelease\\docs')\n",
    "\n",
    "rst_files = path_work.glob('**/*.rst')\n",
    "\n",
    "count = 0\n",
    "for rst_file in rst_files:\n",
    "    path_md = rst_file.with_suffix('.md')\n",
    "    rst2md(rst_file, path_md)\n",
    "    count +=1\n",
    "\n",
    "print(f\"成功转换{count}个.rst文件为.md文件。\")\n"
   ]
  }
 ],
 "metadata": {
  "kernelspec": {
   "display_name": "Python 3.9.13 ('base')",
   "language": "python",
   "name": "python3"
  },
  "language_info": {
   "codemirror_mode": {
    "name": "ipython",
    "version": 3
   },
   "file_extension": ".py",
   "mimetype": "text/x-python",
   "name": "python",
   "nbconvert_exporter": "python",
   "pygments_lexer": "ipython3",
   "version": "3.9.13"
  },
  "orig_nbformat": 4,
  "vscode": {
   "interpreter": {
    "hash": "57bc2b6ce032b5f0e93daa91901b7ea38a856826ef43aa9e95b6d3999f5310df"
   }
  }
 },
 "nbformat": 4,
 "nbformat_minor": 2
}
