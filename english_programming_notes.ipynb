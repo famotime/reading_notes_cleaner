{
 "cells": [
  {
   "cell_type": "code",
   "execution_count": 1,
   "metadata": {},
   "outputs": [],
   "source": [
    "# 英文编程书籍笔记处理——《Getting Started with Processing.py》\n",
    "import pathlib\n",
    "import re\n",
    "\n",
    "\n",
    "path_txt = pathlib.Path(r\"D:\\Python_Work\\reading_notes_cleaner\\learn python visually.txt\")\n",
    "path_md = pathlib.Path(r\"D:\\Python_Work\\reading_notes_cleaner\\learn python visually.md\")"
   ]
  },
  {
   "cell_type": "code",
   "execution_count": 2,
   "metadata": {},
   "outputs": [],
   "source": [
    "contents = []\n",
    "code_block = False\n",
    "\n",
    "with open(path_txt, encoding='utf-8') as f:\n",
    "    for line in f:\n",
    "        if re.match(r'\\d\\d\\d\\d-\\d\\d-\\d\\d.*', line):   # 去除笔记时间标记\n",
    "            line = ''\n",
    "        # 代码块未结束\n",
    "        code_closed = False\n",
    "        if code_block:  \n",
    "            code_closed = False\n",
    "            if re.search(r'  +', line.strip()): # 行内容出现2个以上英文空格, 则增加换行\n",
    "                pre_space = re.match(' *', line).group()\n",
    "                line = pre_space + re.sub(r'  +[^#]', lambda x: '\\n' + x.group(), line.strip()) + '\\n'\n",
    "            line = re.sub(r' def', '\\ndef', line)\n",
    "            if re.match(r'\\d{1,2}/[A-Z]', line) or re.match(r'[A-Z]', line):    # 大写字母开头或章节开始视为代码块结束\n",
    "                code_closed = True\n",
    "                code_block = False\n",
    "        # 非代码块\n",
    "        if code_closed or not code_block:\n",
    "            # 增加代码块标记\n",
    "            if re.match(r'[a-z#]', line):    # 小写字母开头视为代码块开始\n",
    "                code_block = True\n",
    "                line = \"```python\\n\" + line\n",
    "            elif re.match(r'\\d{1,2}/[A-Z]', line) or line.startswith('Chapter '):  # 增加章节标记\n",
    "                line = '## ' + line   \n",
    "            elif re.match(r'[A-Z]', line) and not re.search(r'[.!?:]$', line) and len(line.split(' ')) < 10:    # 大写字母开头 且 不以标点结尾 且 单词数小于10个，加粗处理\n",
    "                # line = '**' + line.strip() + '**\\n'\n",
    "                if line.startswith('Example'):\n",
    "                    line = '#### ' + line\n",
    "                else:\n",
    "                    line = '### ' + line\n",
    "            if code_closed:\n",
    "                line = \"```\\n\" + line\n",
    "\n",
    "        contents.append(line)\n",
    "        \n",
    "content = ''.join(contents)\n"
   ]
  },
  {
   "cell_type": "code",
   "execution_count": 3,
   "metadata": {},
   "outputs": [],
   "source": [
    "with open(path_md, 'w', encoding='utf-8') as f:\n",
    "    f.write(content)"
   ]
  },
  {
   "cell_type": "code",
   "execution_count": null,
   "metadata": {},
   "outputs": [],
   "source": []
  }
 ],
 "metadata": {
  "kernelspec": {
   "display_name": "Python 3.9.13 ('base')",
   "language": "python",
   "name": "python3"
  },
  "language_info": {
   "codemirror_mode": {
    "name": "ipython",
    "version": 3
   },
   "file_extension": ".py",
   "mimetype": "text/x-python",
   "name": "python",
   "nbconvert_exporter": "python",
   "pygments_lexer": "ipython3",
   "version": "3.9.13"
  },
  "orig_nbformat": 4,
  "vscode": {
   "interpreter": {
    "hash": "57bc2b6ce032b5f0e93daa91901b7ea38a856826ef43aa9e95b6d3999f5310df"
   }
  }
 },
 "nbformat": 4,
 "nbformat_minor": 2
}
