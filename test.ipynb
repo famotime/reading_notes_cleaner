{
 "cells": [
  {
   "cell_type": "code",
   "execution_count": 2,
   "id": "f27bc18e",
   "metadata": {},
   "outputs": [
    {
     "name": "stdout",
     "output_type": "stream",
     "text": [
      "用 moc 来做知识管理有哪些优点？  \n",
      "- 不用受制于文件系统，同一个本体能够以链接的形式出现在多个位置，在一个好用的编辑器里调整顺序移动位置也比文件系统的交互更方便  \n",
      "- 管理本体的方式既没有管理链接的方式丰富，也没有管理链接的方式实用，moc 抽象层的形式可以由自己设计，而不是受制于某些商业公司的设计师和产品经理  \n",
      "- 帮助养成「面向主题」的思想，避免被“思维是网状的”这种话忽悠瘸  \n",
      "- 促使人主动去构建功能上高度正交的工具链，而不是在一堆功能重合度很大的软件里挑来挑去\n",
      "\n",
      "用 moc 来做知识管理有哪些局限性？  \n",
      "- 有些内容自带大量特殊元信息，比如音乐、文献，管理它们最好使用专门软件，省力  \n",
      "- 某些笔记软件的编辑器操作性很烂，不适合做内部 moc，反正无序列表的操作手感最差也得达到加了 outliner 插件的 Obsidian 那种程度才行  \n",
      "- 有些软件虽然能向外部提供 url scheme，但这个链接并不是稳定的，典型代表就是 Obsidian\n"
     ]
    }
   ],
   "source": [
    "import pyperclip\n",
    "import re\n",
    "\n",
    "original_text = pyperclip.paste()\n",
    "\n",
    "# 将所有单个换行符（但不是已经是两个及以上的换行符）替换为两个换行符\n",
    "modified_text = re.sub(r'(?<!\\n)\\n(?!\\n)', '\\n\\n', original_text)\n",
    "\n",
    "# 列表标记转换为markdown列表项，如果不以换行符开头则增加换行\n",
    "def convert_bullet(match):\n",
    "    bullet = match.group(0)\n",
    "    if bullet.startswith('\\n'):\n",
    "        return bullet.replace(\"●\", \"- \").replace(\"○\", \"  - \")\n",
    "    else:\n",
    "        # 如果前面不是换行符，则加一个换行\n",
    "        return '\\n' + bullet.replace(\"●\", \"- \").replace(\"○\", \"  - \")\n",
    "\n",
    "# 匹配所有以\"●\"或\"○\"开头的行，前面可以有换行或行首\n",
    "modified_text = re.sub(r'(\\n?)([●○])', convert_bullet, modified_text)\n",
    "\n",
    "# 删除空行\n",
    "# modified_text = re.sub(r'\\n\\n+', '\\n\\n', modified_text)\n",
    "\n",
    "pyperclip.copy(modified_text)\n",
    "print(modified_text)\n",
    "\n",
    "\n"
   ]
  }
 ],
 "metadata": {
  "kernelspec": {
   "display_name": "base",
   "language": "python",
   "name": "python3"
  },
  "language_info": {
   "codemirror_mode": {
    "name": "ipython",
    "version": 3
   },
   "file_extension": ".py",
   "mimetype": "text/x-python",
   "name": "python",
   "nbconvert_exporter": "python",
   "pygments_lexer": "ipython3",
   "version": "3.11.7"
  }
 },
 "nbformat": 4,
 "nbformat_minor": 5
}
